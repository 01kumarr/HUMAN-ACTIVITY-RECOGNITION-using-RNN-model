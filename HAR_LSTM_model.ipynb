{
  "nbformat": 4,
  "nbformat_minor": 0,
  "metadata": {
    "colab": {
      "provenance": [],
      "collapsed_sections": []
    },
    "kernelspec": {
      "name": "python3",
      "display_name": "Python 3"
    },
    "language_info": {
      "name": "python"
    },
    "gpuClass": "standard"
  },
  "cells": [
    {
      "cell_type": "markdown",
      "source": [
        "### Mounted the google-drive with colab notebook to access the files/folder"
      ],
      "metadata": {
        "id": "yssi0h9SJUP6"
      }
    },
    {
      "cell_type": "code",
      "source": [
        "from google.colab import drive\n",
        "drive.mount('/content/drive')"
      ],
      "metadata": {
        "colab": {
          "base_uri": "https://localhost:8080/"
        },
        "id": "Bdc5V9gyC28m",
        "outputId": "21e9d4e6-52a4-46e8-8a6a-354af5094fb3"
      },
      "execution_count": 1,
      "outputs": [
        {
          "output_type": "stream",
          "name": "stdout",
          "text": [
            "Mounted at /content/drive\n"
          ]
        }
      ]
    },
    {
      "cell_type": "markdown",
      "source": [
        "# Building LSTM-model"
      ],
      "metadata": {
        "id": "KZ7f2FSxDvaj"
      }
    },
    {
      "cell_type": "code",
      "source": [
        "# importing libraries\n",
        "import numpy as np\n",
        "import pandas as pd "
      ],
      "metadata": {
        "id": "4nJnuvCMC3B8"
      },
      "execution_count": 3,
      "outputs": []
    },
    {
      "cell_type": "code",
      "source": [
        "# Here activies are the class labels\n",
        "# It is a 6 class classification\n",
        "\n",
        "Activities = {\n",
        "    0:'WALKING',\n",
        "    1:'WALKING_UPSTAIRS',\n",
        "    2:'WALKING_DOWNSTAIRS',\n",
        "    3:'SITTING',\n",
        "    4:'STANDING',\n",
        "    5:'LAYING'\n",
        "}"
      ],
      "metadata": {
        "id": "2rlxHhjXC3UY"
      },
      "execution_count": 4,
      "outputs": []
    },
    {
      "cell_type": "markdown",
      "source": [
        "### Utility function to print Confusion matrix"
      ],
      "metadata": {
        "id": "PB6ykPR0EQxO"
      }
    },
    {
      "cell_type": "code",
      "source": [
        "def confusion_matrix(y_true, y_pred):\n",
        "    y_true = pd.Series([Activities[y] for y in np.argmax(y_true, axis=1)])\n",
        "    y_pred = pd.Series([Activities[y] for y in np.argmax(y_pred, axis=1)])\n",
        "\n",
        "    return pd.crosstab(y_true, y_pred,rownames=[\"Actual_value\"], colnames=[\"Predicted_value\"])\n",
        "    "
      ],
      "metadata": {
        "id": "9tD2GSIuC3Wu"
      },
      "execution_count": 5,
      "outputs": []
    },
    {
      "cell_type": "code",
      "source": [
        "# Raw data signals\n",
        "# Signals are from Accelerometer and Gyroscope\n",
        "# The signals are in x,y,z directions\n",
        "# Sensor signals are filtered to have only body acceleration\n",
        "# excluding the acceleration due to gravity\n",
        "# Triaxial acceleration from the accelerometer is total acceleration\n",
        "\n",
        "SIGNALS = [\n",
        "    \"body_acc_x\",\n",
        "    \"body_acc_y\",\n",
        "    \"body_acc_z\",\n",
        "    \"body_gyro_x\",\n",
        "    \"body_gyro_y\",\n",
        "    \"body_gyro_z\",\n",
        "    \"total_acc_x\",\n",
        "    \"total_acc_y\",\n",
        "    \"total_acc_z\"\n",
        "]"
      ],
      "metadata": {
        "id": "rW2fWX7JC3ZQ"
      },
      "execution_count": 6,
      "outputs": []
    },
    {
      "cell_type": "markdown",
      "source": [
        "### Utility functions to read data from csv_files"
      ],
      "metadata": {
        "id": "1shxV-eUFLdu"
      }
    },
    {
      "cell_type": "code",
      "source": [
        "# this function will read the text file \n",
        "def _read_csv(filename):\n",
        "    return pd.read_csv(filename, delim_whitespace=True,header=None)\n",
        "\n",
        "# this function will load the different text files from Inertial signals\n",
        "def load_signals(subject):\n",
        "    signals_data = []\n",
        "\n",
        "    for signal in SIGNALS:\n",
        "        filename = f'/content/drive/MyDrive/UCI_HAR_Dataset/{subject}/Inertial Signals/{signal}_{subject}.txt'\n",
        "        signals_data.append(_read_csv(filename).to_numpy())\n",
        "\n",
        "    # Transpose is used to change the dimenstionality of data \n",
        "    # Aggregating the signal by the sample of times-steps\n",
        "    # Resultant shape is 3-D sample, 128-timesteps, 9-classes\n",
        "\n",
        "    return np.transpose(signals_data, (1,2,0))"
      ],
      "metadata": {
        "id": "QvffiYBQC3bt"
      },
      "execution_count": 26,
      "outputs": []
    },
    {
      "cell_type": "code",
      "source": [
        "# this funtion will load the file for class labels\n",
        "def load_y(subject):\n",
        "    \"\"\"\n",
        "    The objective that we are trying to predict is an integer, from 1 to 6 that represent the respective classes \n",
        "    We return a binary representation of every sample of activity as a 6 bit vector\n",
        "    using One-Hot Encoding \n",
        "    (https://pandas.pydata.org/pandas-docs/stable/generated/pandas.get_dummies.html)\n",
        "     \"\"\"\n",
        "\n",
        "    filename = f'/content/drive/MyDrive/UCI_HAR_Dataset/{subject}/y_{subject}.txt'\n",
        "    y = _read_csv(filename)[0]\n",
        "    return pd.get_dummies(y).to_numpy()"
      ],
      "metadata": {
        "id": "SHnrWBZXC3eF"
      },
      "execution_count": 25,
      "outputs": []
    },
    {
      "cell_type": "code",
      "source": [
        "# load the data\n",
        "# obtain the data from multi-files and return X-train, X_test and y_train, y_test\n",
        "\n",
        "def load_data():\n",
        "    X_train, X_test = load_signals('train'), load_signals('test')\n",
        "    y_train, y_test = load_y('train'), load_y('test')\n",
        "\n",
        "    return X_train, X_test, y_train, y_test"
      ],
      "metadata": {
        "id": "HTYstKTiC3gi"
      },
      "execution_count": 9,
      "outputs": []
    },
    {
      "cell_type": "markdown",
      "source": [
        "# Importing libraries "
      ],
      "metadata": {
        "id": "K29DlRDdLDHK"
      }
    },
    {
      "cell_type": "code",
      "source": [
        "np.random.seed(42)\n",
        "import tensorflow as tf\n",
        "tf.random.set_seed(42)"
      ],
      "metadata": {
        "id": "kkI5nLK8C3iw"
      },
      "execution_count": 10,
      "outputs": []
    },
    {
      "cell_type": "code",
      "source": [
        "# make sure that we are using only cpu not gpu\n",
        "\n",
        "import os\n",
        "os.environ[\"CUDA_VISIBLE_DEVICES\"]=\"-1\"    \n",
        "\n",
        "from tensorflow.python.client import device_lib\n",
        "print(device_lib.list_local_devices())"
      ],
      "metadata": {
        "colab": {
          "base_uri": "https://localhost:8080/"
        },
        "id": "1rC0r20yLt58",
        "outputId": "b3aece00-1cba-40f2-c527-5734f3c4d439"
      },
      "execution_count": 16,
      "outputs": [
        {
          "output_type": "stream",
          "name": "stdout",
          "text": [
            "[name: \"/device:CPU:0\"\n",
            "device_type: \"CPU\"\n",
            "memory_limit: 268435456\n",
            "locality {\n",
            "}\n",
            "incarnation: 1858319653676525184\n",
            "xla_global_id: -1\n",
            "]\n"
          ]
        }
      ]
    },
    {
      "cell_type": "code",
      "source": [
        "# Importing libraries\n",
        "from keras.models import Sequential\n",
        "from keras.layers import LSTM\n",
        "from keras.layers.core import Dense, Dropout"
      ],
      "metadata": {
        "id": "IBfLkm5WLt8Y"
      },
      "execution_count": 15,
      "outputs": []
    },
    {
      "cell_type": "code",
      "source": [
        "# Initializing the parameters\n",
        "epoch = 30\n",
        "batch_size = 32\n",
        "n_hidden = 64"
      ],
      "metadata": {
        "id": "TKEza2VNLt_A"
      },
      "execution_count": 37,
      "outputs": []
    },
    {
      "cell_type": "code",
      "source": [
        "def count_classes(y):\n",
        "    return len(set([tuple(category) for category in y]))\n",
        "    "
      ],
      "metadata": {
        "id": "Q_27uc0yLuBc"
      },
      "execution_count": 18,
      "outputs": []
    },
    {
      "cell_type": "code",
      "source": [
        "# Loading the train and test data\n",
        "X_train, X_test, Y_train, Y_test = load_data()"
      ],
      "metadata": {
        "id": "7h2hXuMqLuED"
      },
      "execution_count": 27,
      "outputs": []
    },
    {
      "cell_type": "code",
      "source": [
        "timesteps = len(X_train[0])\n",
        "input_dim = len(X_train[0][0])\n",
        "n_classes = count_classes(Y_train)\n",
        "\n",
        "print(timesteps)\n",
        "print(input_dim)\n",
        "print(len(X_train))"
      ],
      "metadata": {
        "colab": {
          "base_uri": "https://localhost:8080/"
        },
        "id": "FcxTk2pyLuI5",
        "outputId": "2147e187-2465-4236-dd5f-81b0a5acaba9"
      },
      "execution_count": 29,
      "outputs": [
        {
          "output_type": "stream",
          "name": "stdout",
          "text": [
            "128\n",
            "9\n",
            "7352\n"
          ]
        }
      ]
    },
    {
      "cell_type": "code",
      "source": [
        "print(X_train)"
      ],
      "metadata": {
        "colab": {
          "base_uri": "https://localhost:8080/"
        },
        "id": "uadQrQhOLuLq",
        "outputId": "aa8b8cb0-91bf-4f68-ccb9-866fcc459508"
      },
      "execution_count": 31,
      "outputs": [
        {
          "output_type": "stream",
          "name": "stdout",
          "text": [
            "[[[ 1.808515e-04  1.076681e-02  5.556068e-02 ...  1.012817e+00\n",
            "   -1.232167e-01  1.029341e-01]\n",
            "  [ 1.013856e-02  6.579480e-03  5.512483e-02 ...  1.022833e+00\n",
            "   -1.268756e-01  1.056872e-01]\n",
            "  [ 9.275574e-03  8.928878e-03  4.840473e-02 ...  1.022028e+00\n",
            "   -1.240037e-01  1.021025e-01]\n",
            "  ...\n",
            "  [-1.147484e-03  1.714439e-04  2.647864e-03 ...  1.018445e+00\n",
            "   -1.240696e-01  1.003852e-01]\n",
            "  [-2.222655e-04  1.574181e-03  2.381057e-03 ...  1.019372e+00\n",
            "   -1.227451e-01  9.987355e-02]\n",
            "  [ 1.575500e-03  3.070189e-03 -2.269757e-03 ...  1.021171e+00\n",
            "   -1.213260e-01  9.498741e-02]]\n",
            "\n",
            " [[ 1.093752e-03 -4.687588e-03 -2.685954e-02 ...  1.018851e+00\n",
            "   -1.239760e-01  9.792958e-02]\n",
            "  [ 4.550077e-03 -7.487894e-03 -2.509841e-02 ...  1.022380e+00\n",
            "   -1.268078e-01  9.935086e-02]\n",
            "  [ 2.879173e-03 -8.429991e-03 -2.597534e-02 ...  1.020781e+00\n",
            "   -1.277862e-01  9.811381e-02]\n",
            "  ...\n",
            "  [-4.646144e-03 -5.479850e-03 -2.996671e-04 ...  1.014788e+00\n",
            "   -1.290268e-01  9.353520e-02]\n",
            "  [-2.941333e-03 -2.987481e-03 -4.886324e-03 ...  1.016499e+00\n",
            "   -1.264244e-01  8.903516e-02]\n",
            "  [-1.598751e-03 -7.192009e-03 -3.397195e-03 ...  1.017849e+00\n",
            "   -1.305193e-01  9.061235e-02]]\n",
            "\n",
            " [[ 3.531266e-03  4.455942e-03 -5.914581e-03 ...  1.023127e+00\n",
            "   -1.200157e-01  9.111667e-02]\n",
            "  [ 2.285063e-03  3.045876e-03 -4.138911e-03 ...  1.021882e+00\n",
            "   -1.214994e-01  9.267560e-02]\n",
            "  [-4.197538e-04  1.776179e-03 -5.428851e-04 ...  1.019178e+00\n",
            "   -1.228407e-01  9.606378e-02]\n",
            "  ...\n",
            "  [ 1.245999e-03 -6.397631e-03 -1.144203e-02 ...  1.021041e+00\n",
            "   -1.308757e-01  8.301135e-02]\n",
            "  [ 3.116783e-03 -6.601456e-03 -1.203020e-02 ...  1.022935e+00\n",
            "   -1.312099e-01  8.233391e-02]\n",
            "  [ 2.177658e-03 -5.442240e-03 -1.278381e-02 ...  1.022019e+00\n",
            "   -1.301826e-01  8.148748e-02]]\n",
            "\n",
            " ...\n",
            "\n",
            " [[-2.267175e-01  5.684462e-02  2.289274e-01 ...  7.548917e-01\n",
            "   -1.711829e-01  1.745865e-01]\n",
            "  [-1.778169e-01  2.716956e-02  2.890968e-01 ...  8.043137e-01\n",
            "   -1.999375e-01  2.324243e-01]\n",
            "  [-1.508691e-01 -5.757124e-03  3.165541e-01 ...  8.317140e-01\n",
            "   -2.319457e-01  2.576066e-01]\n",
            "  ...\n",
            "  [-2.949353e-01 -1.123039e-02  9.884312e-02 ...  6.956257e-01\n",
            "   -2.217656e-01  1.112952e-01]\n",
            "  [-2.434030e-01 -7.121083e-02  1.158437e-01 ...  7.479103e-01\n",
            "   -2.811496e-01  1.263023e-01]\n",
            "  [-2.152148e-01 -1.182353e-01  1.802014e-01 ...  7.767680e-01\n",
            "   -3.275988e-01  1.886212e-01]]\n",
            "\n",
            " [[-6.480597e-02 -5.740777e-03  3.102535e-01 ...  9.279268e-01\n",
            "   -2.238010e-01  2.628140e-01]\n",
            "  [-7.993300e-02 -3.260742e-03  3.429152e-01 ...  9.129872e-01\n",
            "   -2.210407e-01  2.954154e-01]\n",
            "  [-6.834966e-02  3.351273e-02  3.850993e-01 ...  9.246597e-01\n",
            "   -1.839923e-01  3.376098e-01]\n",
            "  ...\n",
            "  [-3.150159e-01  5.451652e-02  1.658256e-01 ...  6.753473e-01\n",
            "   -1.620087e-01  1.289247e-01]\n",
            "  [-3.307374e-01  1.436651e-02  2.109568e-01 ...  6.603377e-01\n",
            "   -2.020367e-01  1.722512e-01]\n",
            "  [-2.723475e-01 -1.284256e-02  2.505605e-01 ...  7.193530e-01\n",
            "   -2.291273e-01  2.100712e-01]]\n",
            "\n",
            " [[-1.944707e-01 -9.723743e-02  2.030342e-01 ...  7.980909e-01\n",
            "   -3.060512e-01  2.093865e-01]\n",
            "  [-1.738025e-01 -5.831043e-02  2.267976e-01 ...  8.192417e-01\n",
            "   -2.666046e-01  2.310711e-01]\n",
            "  [-1.275446e-01  2.447115e-03  3.319892e-01 ...  8.658821e-01\n",
            "   -2.053607e-01  3.341906e-01]\n",
            "  ...\n",
            "  [-7.190685e-02 -1.943222e-01 -1.275547e-01 ...  8.980947e-01\n",
            "   -3.977751e-01 -1.561050e-01]\n",
            "  [-1.422088e-01 -1.470701e-01 -9.236675e-02 ...  8.283723e-01\n",
            "   -3.492473e-01 -1.227979e-01]\n",
            "  [-1.709989e-01 -1.313991e-01 -5.112688e-02 ...  8.002428e-01\n",
            "   -3.323721e-01 -8.357159e-02]]]\n"
          ]
        }
      ]
    },
    {
      "cell_type": "code",
      "source": [
        "# Initializing the sequential model\n",
        "# initializer = tf.keras.initializer.he_normal\n",
        "model = Sequential()\n",
        "# configure the parameters\n",
        "model.add(LSTM(64, input_shape = (timesteps, input_dim),return_sequences=True)) # layer 0\n",
        "\n",
        "model.add(LSTM(32)) # layer 1\n",
        "\n",
        "model.add(Dropout(0.5)) # adding a dropout layer\n",
        "\n",
        "model.add(Dense(n_classes, activation = 'sigmoid'))\n",
        "model.summary()"
      ],
      "metadata": {
        "colab": {
          "base_uri": "https://localhost:8080/"
        },
        "id": "8DUgNS1ELuOW",
        "outputId": "627efded-394c-47b3-b567-3b9b837693e4"
      },
      "execution_count": 49,
      "outputs": [
        {
          "output_type": "stream",
          "name": "stdout",
          "text": [
            "Model: \"sequential_7\"\n",
            "_________________________________________________________________\n",
            " Layer (type)                Output Shape              Param #   \n",
            "=================================================================\n",
            " lstm_7 (LSTM)               (None, 128, 64)           18944     \n",
            "                                                                 \n",
            " lstm_8 (LSTM)               (None, 32)                12416     \n",
            "                                                                 \n",
            " dropout_4 (Dropout)         (None, 32)                0         \n",
            "                                                                 \n",
            " dense_4 (Dense)             (None, 6)                 198       \n",
            "                                                                 \n",
            "=================================================================\n",
            "Total params: 31,558\n",
            "Trainable params: 31,558\n",
            "Non-trainable params: 0\n",
            "_________________________________________________________________\n"
          ]
        }
      ]
    },
    {
      "cell_type": "code",
      "source": [
        "# Compiling the model\n",
        "model.compile(loss='categorical_crossentropy', optimizer = 'rmsprop',metrics=['accuracy'])"
      ],
      "metadata": {
        "id": "WvdPCRXbLuQo"
      },
      "execution_count": 50,
      "outputs": []
    },
    {
      "cell_type": "code",
      "source": [
        "# Training the model\n",
        "model.fit(X_train,\n",
        "          Y_train,\n",
        "          batch_size=batch_size,\n",
        "          validation_data=(X_test, Y_test),\n",
        "          epochs=epoch)"
      ],
      "metadata": {
        "colab": {
          "base_uri": "https://localhost:8080/"
        },
        "id": "Eqf9fMeZLuTc",
        "outputId": "3a29670d-6461-4656-abf7-e1c4e01c8ba0"
      },
      "execution_count": 51,
      "outputs": [
        {
          "output_type": "stream",
          "name": "stdout",
          "text": [
            "Epoch 1/30\n",
            "230/230 [==============================] - 36s 137ms/step - loss: 1.0615 - accuracy: 0.5487 - val_loss: 0.8152 - val_accuracy: 0.6793\n",
            "Epoch 2/30\n",
            "230/230 [==============================] - 30s 129ms/step - loss: 0.6541 - accuracy: 0.7443 - val_loss: 0.5475 - val_accuracy: 0.8100\n",
            "Epoch 3/30\n",
            "230/230 [==============================] - 30s 131ms/step - loss: 0.3812 - accuracy: 0.8851 - val_loss: 0.4509 - val_accuracy: 0.8578\n",
            "Epoch 4/30\n",
            "230/230 [==============================] - 34s 150ms/step - loss: 0.2845 - accuracy: 0.9134 - val_loss: 0.4034 - val_accuracy: 0.8748\n",
            "Epoch 5/30\n",
            "230/230 [==============================] - 30s 129ms/step - loss: 0.2129 - accuracy: 0.9321 - val_loss: 0.4583 - val_accuracy: 0.8660\n",
            "Epoch 6/30\n",
            "230/230 [==============================] - 30s 130ms/step - loss: 0.2142 - accuracy: 0.9328 - val_loss: 0.4165 - val_accuracy: 0.8799\n",
            "Epoch 7/30\n",
            "230/230 [==============================] - 30s 131ms/step - loss: 0.1714 - accuracy: 0.9399 - val_loss: 0.5173 - val_accuracy: 0.8751\n",
            "Epoch 8/30\n",
            "230/230 [==============================] - 30s 130ms/step - loss: 0.1575 - accuracy: 0.9411 - val_loss: 0.5254 - val_accuracy: 0.8744\n",
            "Epoch 9/30\n",
            "230/230 [==============================] - 30s 130ms/step - loss: 0.1452 - accuracy: 0.9468 - val_loss: 0.4415 - val_accuracy: 0.8955\n",
            "Epoch 10/30\n",
            "230/230 [==============================] - 34s 149ms/step - loss: 0.1373 - accuracy: 0.9499 - val_loss: 0.4905 - val_accuracy: 0.8924\n",
            "Epoch 11/30\n",
            "230/230 [==============================] - 30s 130ms/step - loss: 0.1416 - accuracy: 0.9449 - val_loss: 0.4281 - val_accuracy: 0.8968\n",
            "Epoch 12/30\n",
            "230/230 [==============================] - 30s 130ms/step - loss: 0.1477 - accuracy: 0.9475 - val_loss: 0.4775 - val_accuracy: 0.8975\n",
            "Epoch 13/30\n",
            "230/230 [==============================] - 33s 142ms/step - loss: 0.1470 - accuracy: 0.9517 - val_loss: 0.3876 - val_accuracy: 0.8972\n",
            "Epoch 14/30\n",
            "230/230 [==============================] - 31s 134ms/step - loss: 0.1356 - accuracy: 0.9494 - val_loss: 0.3557 - val_accuracy: 0.9046\n",
            "Epoch 15/30\n",
            "230/230 [==============================] - 30s 130ms/step - loss: 0.1230 - accuracy: 0.9501 - val_loss: 0.5009 - val_accuracy: 0.8870\n",
            "Epoch 16/30\n",
            "230/230 [==============================] - 30s 132ms/step - loss: 0.1255 - accuracy: 0.9533 - val_loss: 0.4844 - val_accuracy: 0.8907\n",
            "Epoch 17/30\n",
            "230/230 [==============================] - 30s 130ms/step - loss: 0.1319 - accuracy: 0.9517 - val_loss: 0.4192 - val_accuracy: 0.8921\n",
            "Epoch 18/30\n",
            "230/230 [==============================] - 30s 130ms/step - loss: 0.1290 - accuracy: 0.9510 - val_loss: 0.2806 - val_accuracy: 0.9148\n",
            "Epoch 19/30\n",
            "230/230 [==============================] - 34s 147ms/step - loss: 0.1171 - accuracy: 0.9506 - val_loss: 0.4472 - val_accuracy: 0.9033\n",
            "Epoch 20/30\n",
            "230/230 [==============================] - 30s 130ms/step - loss: 0.1323 - accuracy: 0.9531 - val_loss: 0.4503 - val_accuracy: 0.8948\n",
            "Epoch 21/30\n",
            "230/230 [==============================] - 30s 132ms/step - loss: 0.1454 - accuracy: 0.9512 - val_loss: 0.3969 - val_accuracy: 0.9002\n",
            "Epoch 22/30\n",
            "230/230 [==============================] - 30s 128ms/step - loss: 0.1267 - accuracy: 0.9532 - val_loss: 0.4350 - val_accuracy: 0.8992\n",
            "Epoch 23/30\n",
            "230/230 [==============================] - 34s 147ms/step - loss: 0.1184 - accuracy: 0.9540 - val_loss: 0.4770 - val_accuracy: 0.8999\n",
            "Epoch 24/30\n",
            "230/230 [==============================] - 30s 130ms/step - loss: 0.1169 - accuracy: 0.9546 - val_loss: 0.4602 - val_accuracy: 0.9013\n",
            "Epoch 25/30\n",
            "230/230 [==============================] - 30s 131ms/step - loss: 0.1255 - accuracy: 0.9548 - val_loss: 0.3164 - val_accuracy: 0.9121\n",
            "Epoch 26/30\n",
            "230/230 [==============================] - 41s 178ms/step - loss: 0.1404 - accuracy: 0.9525 - val_loss: 0.3802 - val_accuracy: 0.9135\n",
            "Epoch 27/30\n",
            "230/230 [==============================] - 42s 183ms/step - loss: 0.1138 - accuracy: 0.9506 - val_loss: 0.4869 - val_accuracy: 0.8965\n",
            "Epoch 28/30\n",
            "230/230 [==============================] - 38s 164ms/step - loss: 0.1057 - accuracy: 0.9555 - val_loss: 0.5227 - val_accuracy: 0.9013\n",
            "Epoch 29/30\n",
            "230/230 [==============================] - 30s 131ms/step - loss: 0.1170 - accuracy: 0.9528 - val_loss: 0.4095 - val_accuracy: 0.9046\n",
            "Epoch 30/30\n",
            "230/230 [==============================] - 30s 131ms/step - loss: 0.1361 - accuracy: 0.9546 - val_loss: 0.4820 - val_accuracy: 0.9043\n"
          ]
        },
        {
          "output_type": "execute_result",
          "data": {
            "text/plain": [
              "<keras.callbacks.History at 0x7f3665ed1f50>"
            ]
          },
          "metadata": {},
          "execution_count": 51
        }
      ]
    },
    {
      "cell_type": "code",
      "source": [
        "# confusion matrix (cross-table form)\n",
        "Y_pred = model.predict(X_test)\n",
        "print(confusion_matrix(Y_test, Y_pred))"
      ],
      "metadata": {
        "colab": {
          "base_uri": "https://localhost:8080/"
        },
        "id": "oso-WAulUHqs",
        "outputId": "67b51696-311f-4ce9-8fde-79e3e6947482"
      },
      "execution_count": 52,
      "outputs": [
        {
          "output_type": "stream",
          "name": "stdout",
          "text": [
            "93/93 [==============================] - 4s 32ms/step\n",
            "Predicted_value     LAYING  SITTING  STANDING  WALKING  WALKING_DOWNSTAIRS  \\\n",
            "Actual_value                                                                 \n",
            "LAYING                 510        0         0        0                   0   \n",
            "SITTING                  0      378       108        0                   0   \n",
            "STANDING                 0       74       456        1                   0   \n",
            "WALKING                  0        0         0      461                  34   \n",
            "WALKING_DOWNSTAIRS       0        0         0        1                 419   \n",
            "WALKING_UPSTAIRS         0        0         0       11                  19   \n",
            "\n",
            "Predicted_value     WALKING_UPSTAIRS  \n",
            "Actual_value                          \n",
            "LAYING                            27  \n",
            "SITTING                            5  \n",
            "STANDING                           1  \n",
            "WALKING                            1  \n",
            "WALKING_DOWNSTAIRS                 0  \n",
            "WALKING_UPSTAIRS                 441  \n"
          ]
        }
      ]
    },
    {
      "cell_type": "code",
      "source": [
        "score = model.evaluate(X_test, Y_test)"
      ],
      "metadata": {
        "colab": {
          "base_uri": "https://localhost:8080/"
        },
        "id": "-rTyK-TbefZC",
        "outputId": "5facf13d-a824-4e2b-bcbb-c44e5ae1cb36"
      },
      "execution_count": 53,
      "outputs": [
        {
          "output_type": "stream",
          "name": "stdout",
          "text": [
            "93/93 [==============================] - 3s 33ms/step - loss: 0.4820 - accuracy: 0.9043\n"
          ]
        }
      ]
    },
    {
      "cell_type": "code",
      "source": [
        "print(score)"
      ],
      "metadata": {
        "colab": {
          "base_uri": "https://localhost:8080/"
        },
        "id": "kMVRyWdRep-h",
        "outputId": "219a3bdd-ea8e-45e8-e5b8-b944a820153f"
      },
      "execution_count": 54,
      "outputs": [
        {
          "output_type": "stream",
          "name": "stdout",
          "text": [
            "[0.48200029134750366, 0.9043094515800476]\n"
          ]
        }
      ]
    },
    {
      "cell_type": "markdown",
      "source": [
        "### key take-away:\n",
        " __with this simple three layers of model we achieve 90.43%__\n",
        " \n",
        " __We can further improve the accuracy using hyperparameter tunnings__"
      ],
      "metadata": {
        "id": "2XwvtRHgezbS"
      }
    }
  ]
}